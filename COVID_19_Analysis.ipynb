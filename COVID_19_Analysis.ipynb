{
  "nbformat": 4,
  "nbformat_minor": 0,
  "metadata": {
    "colab": {
      "name": "COVID-19 Analysis.ipynb",
      "provenance": [],
      "collapsed_sections": [
        "_LEgM9U3E8IB"
      ],
      "include_colab_link": true
    },
    "kernelspec": {
      "name": "python3",
      "display_name": "Python 3"
    }
  },
  "cells": [
    {
      "cell_type": "markdown",
      "metadata": {
        "id": "view-in-github",
        "colab_type": "text"
      },
      "source": [
        "<a href=\"https://colab.research.google.com/github/Sharzla/UniProjects/blob/main/COVID_19_Analysis.ipynb\" target=\"_parent\"><img src=\"https://colab.research.google.com/assets/colab-badge.svg\" alt=\"Open In Colab\"/></a>"
      ]
    },
    {
      "cell_type": "code",
      "metadata": {
        "id": "Ud72lX2x22hy"
      },
      "source": [
        "import pandas as pd\n",
        "import numpy as np\n",
        "import re"
      ],
      "execution_count": null,
      "outputs": []
    },
    {
      "cell_type": "code",
      "metadata": {
        "colab": {
          "base_uri": "https://localhost:8080/",
          "height": 340
        },
        "id": "wP62Tr959lzm",
        "outputId": "82035e33-4340-49c2-8980-b3bb608063f4"
      },
      "source": [
        "tweets = pd.read_csv(\"vaccine_tweets.csv\")\n",
        "tweets.head()"
      ],
      "execution_count": null,
      "outputs": [
        {
          "output_type": "execute_result",
          "data": {
            "text/html": [
              "<div>\n",
              "<style scoped>\n",
              "    .dataframe tbody tr th:only-of-type {\n",
              "        vertical-align: middle;\n",
              "    }\n",
              "\n",
              "    .dataframe tbody tr th {\n",
              "        vertical-align: top;\n",
              "    }\n",
              "\n",
              "    .dataframe thead th {\n",
              "        text-align: right;\n",
              "    }\n",
              "</style>\n",
              "<table border=\"1\" class=\"dataframe\">\n",
              "  <thead>\n",
              "    <tr style=\"text-align: right;\">\n",
              "      <th></th>\n",
              "      <th>Unnamed: 0</th>\n",
              "      <th>tweet_dt</th>\n",
              "      <th>topic</th>\n",
              "      <th>id</th>\n",
              "      <th>username</th>\n",
              "      <th>name</th>\n",
              "      <th>tweet</th>\n",
              "      <th>like_count</th>\n",
              "      <th>reply_count</th>\n",
              "      <th>retweet_count</th>\n",
              "      <th>retweeted</th>\n",
              "    </tr>\n",
              "  </thead>\n",
              "  <tbody>\n",
              "    <tr>\n",
              "      <th>0</th>\n",
              "      <td>0</td>\n",
              "      <td>2021-01-29</td>\n",
              "      <td>Covid vaccine</td>\n",
              "      <td>1355056373067894784</td>\n",
              "      <td>stokel</td>\n",
              "      <td>Chris Stokel-Walker</td>\n",
              "      <td>Cool cool, so vaccine supplies were diverted f...</td>\n",
              "      <td>0</td>\n",
              "      <td>0</td>\n",
              "      <td>0</td>\n",
              "      <td>False</td>\n",
              "    </tr>\n",
              "    <tr>\n",
              "      <th>1</th>\n",
              "      <td>1</td>\n",
              "      <td>2021-01-29</td>\n",
              "      <td>Covid vaccine</td>\n",
              "      <td>1355056371125907460</td>\n",
              "      <td>SandraWeeden</td>\n",
              "      <td>Sandra Weeden</td>\n",
              "      <td>Please, stop using the term ‘the Covid vaccine...</td>\n",
              "      <td>0</td>\n",
              "      <td>0</td>\n",
              "      <td>0</td>\n",
              "      <td>False</td>\n",
              "    </tr>\n",
              "    <tr>\n",
              "      <th>2</th>\n",
              "      <td>2</td>\n",
              "      <td>2021-01-29</td>\n",
              "      <td>Covid vaccine</td>\n",
              "      <td>1355056324900487169</td>\n",
              "      <td>sunilupendra</td>\n",
              "      <td>Sunil Prasad</td>\n",
              "      <td>Mullahs and religious fundamentalists in Pakis...</td>\n",
              "      <td>0</td>\n",
              "      <td>0</td>\n",
              "      <td>0</td>\n",
              "      <td>False</td>\n",
              "    </tr>\n",
              "    <tr>\n",
              "      <th>3</th>\n",
              "      <td>3</td>\n",
              "      <td>2021-01-29</td>\n",
              "      <td>Covid vaccine</td>\n",
              "      <td>1355056300783263745</td>\n",
              "      <td>TheSunTech</td>\n",
              "      <td>The Sun Tech</td>\n",
              "      <td>Beware this Covid-19 vaccine NHS email scam th...</td>\n",
              "      <td>0</td>\n",
              "      <td>0</td>\n",
              "      <td>0</td>\n",
              "      <td>False</td>\n",
              "    </tr>\n",
              "    <tr>\n",
              "      <th>4</th>\n",
              "      <td>4</td>\n",
              "      <td>2021-01-29</td>\n",
              "      <td>Covid vaccine</td>\n",
              "      <td>1355056293095108608</td>\n",
              "      <td>OpsMediaWatch</td>\n",
              "      <td>Surviving LockDown: Back in ZombieLand</td>\n",
              "      <td>Merck abandons 2 potential COVID-19 vaccines o...</td>\n",
              "      <td>0</td>\n",
              "      <td>0</td>\n",
              "      <td>0</td>\n",
              "      <td>False</td>\n",
              "    </tr>\n",
              "  </tbody>\n",
              "</table>\n",
              "</div>"
            ],
            "text/plain": [
              "   Unnamed: 0    tweet_dt          topic  ...  reply_count retweet_count retweeted\n",
              "0           0  2021-01-29  Covid vaccine  ...            0             0     False\n",
              "1           1  2021-01-29  Covid vaccine  ...            0             0     False\n",
              "2           2  2021-01-29  Covid vaccine  ...            0             0     False\n",
              "3           3  2021-01-29  Covid vaccine  ...            0             0     False\n",
              "4           4  2021-01-29  Covid vaccine  ...            0             0     False\n",
              "\n",
              "[5 rows x 11 columns]"
            ]
          },
          "metadata": {
            "tags": []
          },
          "execution_count": 2
        }
      ]
    },
    {
      "cell_type": "code",
      "metadata": {
        "colab": {
          "base_uri": "https://localhost:8080/"
        },
        "id": "C_iXeLWl-Fa7",
        "outputId": "006ee64d-2d1f-404f-8bd2-6e8124ac1399"
      },
      "source": [
        "import nltk\n",
        "nltk.download('punkt')\n",
        "nltk.download('stopwords')\n",
        "from nltk.corpus import stopwords\n",
        "from nltk.tokenize import word_tokenize "
      ],
      "execution_count": null,
      "outputs": [
        {
          "output_type": "stream",
          "text": [
            "[nltk_data] Downloading package punkt to /root/nltk_data...\n",
            "[nltk_data]   Unzipping tokenizers/punkt.zip.\n",
            "[nltk_data] Downloading package stopwords to /root/nltk_data...\n",
            "[nltk_data]   Unzipping corpora/stopwords.zip.\n"
          ],
          "name": "stdout"
        }
      ]
    },
    {
      "cell_type": "code",
      "metadata": {
        "id": "ZNNerCMw-Sce"
      },
      "source": [
        "#function to remove stop words\n",
        "def remove_stopwords(text):\n",
        "  tokenz = word_tokenize(text)\n",
        "  stop_words = ['a', 'and', 'are', 'as', 'be','for', 'have',\n",
        "                      'in', 'is', 'of', 'or', 'that','the', 'to', 'was', 'so']\n",
        "    \n",
        "  text_noSW = list()\n",
        "\n",
        "  for i in range(0,len(tokenz)):\n",
        "\n",
        "        if tokenz[i].lower() in stop_words:   # remember to make lower! \n",
        "            pass\n",
        "        else:\n",
        "            text_noSW.append(tokenz[i])\n",
        "\n",
        "  return \" \".join(text_noSW)"
      ],
      "execution_count": null,
      "outputs": []
    },
    {
      "cell_type": "code",
      "metadata": {
        "id": "m6vZcqeC-2DI"
      },
      "source": [
        "#create a function to clean tweets\n",
        "def cleanUpTweet(txt):\n",
        "    txt = re.sub(r'@[A-Za-z0-9_]+', '', txt) # Remove mentions\n",
        "    txt = re.sub(r'#', '', txt) # Remove hashtags\n",
        "    txt = re.sub(r'RT : ', '', txt) # Remove retweets\n",
        "    txt = re.sub(r'https?:\\/\\/[A-Za-z0-9\\.\\/]+', '', txt) # Remove urls\n",
        "    txt = txt.replace('\\n','')\n",
        "    txt = remove_stopwords(txt)\n",
        "    return txt"
      ],
      "execution_count": null,
      "outputs": []
    },
    {
      "cell_type": "code",
      "metadata": {
        "colab": {
          "base_uri": "https://localhost:8080/",
          "height": 374
        },
        "id": "uaR7K-Ty-6gC",
        "outputId": "0a68c8d1-0895-402a-8913-9700d390ea28"
      },
      "source": [
        "tweets['tweet'] = tweets['tweet'].apply(cleanUpTweet)\n",
        "tweets.head()"
      ],
      "execution_count": null,
      "outputs": [
        {
          "output_type": "execute_result",
          "data": {
            "text/html": [
              "<div>\n",
              "<style scoped>\n",
              "    .dataframe tbody tr th:only-of-type {\n",
              "        vertical-align: middle;\n",
              "    }\n",
              "\n",
              "    .dataframe tbody tr th {\n",
              "        vertical-align: top;\n",
              "    }\n",
              "\n",
              "    .dataframe thead th {\n",
              "        text-align: right;\n",
              "    }\n",
              "</style>\n",
              "<table border=\"1\" class=\"dataframe\">\n",
              "  <thead>\n",
              "    <tr style=\"text-align: right;\">\n",
              "      <th></th>\n",
              "      <th>Unnamed: 0</th>\n",
              "      <th>tweet_dt</th>\n",
              "      <th>topic</th>\n",
              "      <th>id</th>\n",
              "      <th>username</th>\n",
              "      <th>name</th>\n",
              "      <th>tweet</th>\n",
              "      <th>like_count</th>\n",
              "      <th>reply_count</th>\n",
              "      <th>retweet_count</th>\n",
              "      <th>retweeted</th>\n",
              "    </tr>\n",
              "  </thead>\n",
              "  <tbody>\n",
              "    <tr>\n",
              "      <th>0</th>\n",
              "      <td>0</td>\n",
              "      <td>2021-01-29</td>\n",
              "      <td>Covid vaccine</td>\n",
              "      <td>1355056373067894784</td>\n",
              "      <td>stokel</td>\n",
              "      <td>Chris Stokel-Walker</td>\n",
              "      <td>Cool cool , vaccine supplies were diverted fro...</td>\n",
              "      <td>0</td>\n",
              "      <td>0</td>\n",
              "      <td>0</td>\n",
              "      <td>False</td>\n",
              "    </tr>\n",
              "    <tr>\n",
              "      <th>1</th>\n",
              "      <td>1</td>\n",
              "      <td>2021-01-29</td>\n",
              "      <td>Covid vaccine</td>\n",
              "      <td>1355056371125907460</td>\n",
              "      <td>SandraWeeden</td>\n",
              "      <td>Sandra Weeden</td>\n",
              "      <td>Please , stop using term ‘ Covid vaccine ’ . T...</td>\n",
              "      <td>0</td>\n",
              "      <td>0</td>\n",
              "      <td>0</td>\n",
              "      <td>False</td>\n",
              "    </tr>\n",
              "    <tr>\n",
              "      <th>2</th>\n",
              "      <td>2</td>\n",
              "      <td>2021-01-29</td>\n",
              "      <td>Covid vaccine</td>\n",
              "      <td>1355056324900487169</td>\n",
              "      <td>sunilupendra</td>\n",
              "      <td>Sunil Prasad</td>\n",
              "      <td>Mullahs religious fundamentalists Pakistan tod...</td>\n",
              "      <td>0</td>\n",
              "      <td>0</td>\n",
              "      <td>0</td>\n",
              "      <td>False</td>\n",
              "    </tr>\n",
              "    <tr>\n",
              "      <th>3</th>\n",
              "      <td>3</td>\n",
              "      <td>2021-01-29</td>\n",
              "      <td>Covid vaccine</td>\n",
              "      <td>1355056300783263745</td>\n",
              "      <td>TheSunTech</td>\n",
              "      <td>The Sun Tech</td>\n",
              "      <td>Beware this Covid-19 vaccine NHS email scam ex...</td>\n",
              "      <td>0</td>\n",
              "      <td>0</td>\n",
              "      <td>0</td>\n",
              "      <td>False</td>\n",
              "    </tr>\n",
              "    <tr>\n",
              "      <th>4</th>\n",
              "      <td>4</td>\n",
              "      <td>2021-01-29</td>\n",
              "      <td>Covid vaccine</td>\n",
              "      <td>1355056293095108608</td>\n",
              "      <td>OpsMediaWatch</td>\n",
              "      <td>Surviving LockDown: Back in ZombieLand</td>\n",
              "      <td>Merck abandons 2 potential COVID-19 vaccines o...</td>\n",
              "      <td>0</td>\n",
              "      <td>0</td>\n",
              "      <td>0</td>\n",
              "      <td>False</td>\n",
              "    </tr>\n",
              "  </tbody>\n",
              "</table>\n",
              "</div>"
            ],
            "text/plain": [
              "   Unnamed: 0    tweet_dt          topic  ...  reply_count retweet_count retweeted\n",
              "0           0  2021-01-29  Covid vaccine  ...            0             0     False\n",
              "1           1  2021-01-29  Covid vaccine  ...            0             0     False\n",
              "2           2  2021-01-29  Covid vaccine  ...            0             0     False\n",
              "3           3  2021-01-29  Covid vaccine  ...            0             0     False\n",
              "4           4  2021-01-29  Covid vaccine  ...            0             0     False\n",
              "\n",
              "[5 rows x 11 columns]"
            ]
          },
          "metadata": {
            "tags": []
          },
          "execution_count": 6
        }
      ]
    },
    {
      "cell_type": "code",
      "metadata": {
        "colab": {
          "base_uri": "https://localhost:8080/",
          "height": 111
        },
        "id": "TgziykMj_LAS",
        "outputId": "3abb0336-3e31-4076-9168-72addfcd59c8"
      },
      "source": [
        "df_tw = pd.DataFrame(tweets.iloc[:, 6])\n",
        "df_tw.head(2)"
      ],
      "execution_count": null,
      "outputs": [
        {
          "output_type": "execute_result",
          "data": {
            "text/html": [
              "<div>\n",
              "<style scoped>\n",
              "    .dataframe tbody tr th:only-of-type {\n",
              "        vertical-align: middle;\n",
              "    }\n",
              "\n",
              "    .dataframe tbody tr th {\n",
              "        vertical-align: top;\n",
              "    }\n",
              "\n",
              "    .dataframe thead th {\n",
              "        text-align: right;\n",
              "    }\n",
              "</style>\n",
              "<table border=\"1\" class=\"dataframe\">\n",
              "  <thead>\n",
              "    <tr style=\"text-align: right;\">\n",
              "      <th></th>\n",
              "      <th>tweet</th>\n",
              "    </tr>\n",
              "  </thead>\n",
              "  <tbody>\n",
              "    <tr>\n",
              "      <th>0</th>\n",
              "      <td>Cool cool , vaccine supplies were diverted fro...</td>\n",
              "    </tr>\n",
              "    <tr>\n",
              "      <th>1</th>\n",
              "      <td>Please , stop using term ‘ Covid vaccine ’ . T...</td>\n",
              "    </tr>\n",
              "  </tbody>\n",
              "</table>\n",
              "</div>"
            ],
            "text/plain": [
              "                                               tweet\n",
              "0  Cool cool , vaccine supplies were diverted fro...\n",
              "1  Please , stop using term ‘ Covid vaccine ’ . T..."
            ]
          },
          "metadata": {
            "tags": []
          },
          "execution_count": 7
        }
      ]
    },
    {
      "cell_type": "code",
      "metadata": {
        "colab": {
          "base_uri": "https://localhost:8080/"
        },
        "id": "2DNjwOZ-_Ub_",
        "outputId": "0599ee93-a491-4c8b-b76d-7fb5063915bb"
      },
      "source": [
        "import nltk\n",
        "nltk.download('vader_lexicon')"
      ],
      "execution_count": null,
      "outputs": [
        {
          "output_type": "stream",
          "text": [
            "[nltk_data] Downloading package vader_lexicon to /root/nltk_data...\n"
          ],
          "name": "stdout"
        },
        {
          "output_type": "execute_result",
          "data": {
            "text/plain": [
              "True"
            ]
          },
          "metadata": {
            "tags": []
          },
          "execution_count": 8
        }
      ]
    },
    {
      "cell_type": "code",
      "metadata": {
        "colab": {
          "base_uri": "https://localhost:8080/"
        },
        "id": "pyxqIhfq_k_p",
        "outputId": "32341dc5-5ea5-45da-acb6-691b6d9a88eb"
      },
      "source": [
        "from nltk.sentiment.vader import SentimentIntensityAnalyzer\n",
        "\n",
        "sid = SentimentIntensityAnalyzer()"
      ],
      "execution_count": null,
      "outputs": [
        {
          "output_type": "stream",
          "text": [
            "/usr/local/lib/python3.6/dist-packages/nltk/twitter/__init__.py:20: UserWarning: The twython library has not been installed. Some functionality from the twitter package will not be available.\n",
            "  warnings.warn(\"The twython library has not been installed. \"\n"
          ],
          "name": "stderr"
        }
      ]
    },
    {
      "cell_type": "code",
      "metadata": {
        "colab": {
          "base_uri": "https://localhost:8080/",
          "height": 204
        },
        "id": "fStPenhn_oY4",
        "outputId": "dc7b45f1-ed29-46c2-9525-f96fc06a3bea"
      },
      "source": [
        "df_tw['scores'] = df_tw['tweet'].apply(lambda review: sid.polarity_scores(review))\n",
        "\n",
        "df_tw.head()"
      ],
      "execution_count": null,
      "outputs": [
        {
          "output_type": "execute_result",
          "data": {
            "text/html": [
              "<div>\n",
              "<style scoped>\n",
              "    .dataframe tbody tr th:only-of-type {\n",
              "        vertical-align: middle;\n",
              "    }\n",
              "\n",
              "    .dataframe tbody tr th {\n",
              "        vertical-align: top;\n",
              "    }\n",
              "\n",
              "    .dataframe thead th {\n",
              "        text-align: right;\n",
              "    }\n",
              "</style>\n",
              "<table border=\"1\" class=\"dataframe\">\n",
              "  <thead>\n",
              "    <tr style=\"text-align: right;\">\n",
              "      <th></th>\n",
              "      <th>tweet</th>\n",
              "      <th>scores</th>\n",
              "    </tr>\n",
              "  </thead>\n",
              "  <tbody>\n",
              "    <tr>\n",
              "      <th>0</th>\n",
              "      <td>Cool cool , vaccine supplies were diverted fro...</td>\n",
              "      <td>{'neg': 0.0, 'neu': 0.654, 'pos': 0.346, 'comp...</td>\n",
              "    </tr>\n",
              "    <tr>\n",
              "      <th>1</th>\n",
              "      <td>Please , stop using term ‘ Covid vaccine ’ . T...</td>\n",
              "      <td>{'neg': 0.126, 'neu': 0.743, 'pos': 0.131, 'co...</td>\n",
              "    </tr>\n",
              "    <tr>\n",
              "      <th>2</th>\n",
              "      <td>Mullahs religious fundamentalists Pakistan tod...</td>\n",
              "      <td>{'neg': 0.113, 'neu': 0.887, 'pos': 0.0, 'comp...</td>\n",
              "    </tr>\n",
              "    <tr>\n",
              "      <th>3</th>\n",
              "      <td>Beware this Covid-19 vaccine NHS email scam ex...</td>\n",
              "      <td>{'neg': 0.345, 'neu': 0.473, 'pos': 0.182, 'co...</td>\n",
              "    </tr>\n",
              "    <tr>\n",
              "      <th>4</th>\n",
              "      <td>Merck abandons 2 potential COVID-19 vaccines o...</td>\n",
              "      <td>{'neg': 0.426, 'neu': 0.574, 'pos': 0.0, 'comp...</td>\n",
              "    </tr>\n",
              "  </tbody>\n",
              "</table>\n",
              "</div>"
            ],
            "text/plain": [
              "                                               tweet                                             scores\n",
              "0  Cool cool , vaccine supplies were diverted fro...  {'neg': 0.0, 'neu': 0.654, 'pos': 0.346, 'comp...\n",
              "1  Please , stop using term ‘ Covid vaccine ’ . T...  {'neg': 0.126, 'neu': 0.743, 'pos': 0.131, 'co...\n",
              "2  Mullahs religious fundamentalists Pakistan tod...  {'neg': 0.113, 'neu': 0.887, 'pos': 0.0, 'comp...\n",
              "3  Beware this Covid-19 vaccine NHS email scam ex...  {'neg': 0.345, 'neu': 0.473, 'pos': 0.182, 'co...\n",
              "4  Merck abandons 2 potential COVID-19 vaccines o...  {'neg': 0.426, 'neu': 0.574, 'pos': 0.0, 'comp..."
            ]
          },
          "metadata": {
            "tags": []
          },
          "execution_count": 10
        }
      ]
    },
    {
      "cell_type": "code",
      "metadata": {
        "colab": {
          "base_uri": "https://localhost:8080/",
          "height": 204
        },
        "id": "2vfRAhxT_udo",
        "outputId": "5dc545ab-dc72-41f6-9fb2-001c4fc26a9b"
      },
      "source": [
        "df_tw['compound']  = df_tw['scores'].apply(lambda score_dict: score_dict['compound'])\n",
        "\n",
        "df_tw.head()"
      ],
      "execution_count": null,
      "outputs": [
        {
          "output_type": "execute_result",
          "data": {
            "text/html": [
              "<div>\n",
              "<style scoped>\n",
              "    .dataframe tbody tr th:only-of-type {\n",
              "        vertical-align: middle;\n",
              "    }\n",
              "\n",
              "    .dataframe tbody tr th {\n",
              "        vertical-align: top;\n",
              "    }\n",
              "\n",
              "    .dataframe thead th {\n",
              "        text-align: right;\n",
              "    }\n",
              "</style>\n",
              "<table border=\"1\" class=\"dataframe\">\n",
              "  <thead>\n",
              "    <tr style=\"text-align: right;\">\n",
              "      <th></th>\n",
              "      <th>tweet</th>\n",
              "      <th>scores</th>\n",
              "      <th>compound</th>\n",
              "    </tr>\n",
              "  </thead>\n",
              "  <tbody>\n",
              "    <tr>\n",
              "      <th>0</th>\n",
              "      <td>Cool cool , vaccine supplies were diverted fro...</td>\n",
              "      <td>{'neg': 0.0, 'neu': 0.654, 'pos': 0.346, 'comp...</td>\n",
              "      <td>0.7506</td>\n",
              "    </tr>\n",
              "    <tr>\n",
              "      <th>1</th>\n",
              "      <td>Please , stop using term ‘ Covid vaccine ’ . T...</td>\n",
              "      <td>{'neg': 0.126, 'neu': 0.743, 'pos': 0.131, 'co...</td>\n",
              "      <td>0.0258</td>\n",
              "    </tr>\n",
              "    <tr>\n",
              "      <th>2</th>\n",
              "      <td>Mullahs religious fundamentalists Pakistan tod...</td>\n",
              "      <td>{'neg': 0.113, 'neu': 0.887, 'pos': 0.0, 'comp...</td>\n",
              "      <td>-0.1027</td>\n",
              "    </tr>\n",
              "    <tr>\n",
              "      <th>3</th>\n",
              "      <td>Beware this Covid-19 vaccine NHS email scam ex...</td>\n",
              "      <td>{'neg': 0.345, 'neu': 0.473, 'pos': 0.182, 'co...</td>\n",
              "      <td>-0.3400</td>\n",
              "    </tr>\n",
              "    <tr>\n",
              "      <th>4</th>\n",
              "      <td>Merck abandons 2 potential COVID-19 vaccines o...</td>\n",
              "      <td>{'neg': 0.426, 'neu': 0.574, 'pos': 0.0, 'comp...</td>\n",
              "      <td>-0.6369</td>\n",
              "    </tr>\n",
              "  </tbody>\n",
              "</table>\n",
              "</div>"
            ],
            "text/plain": [
              "                                               tweet  ... compound\n",
              "0  Cool cool , vaccine supplies were diverted fro...  ...   0.7506\n",
              "1  Please , stop using term ‘ Covid vaccine ’ . T...  ...   0.0258\n",
              "2  Mullahs religious fundamentalists Pakistan tod...  ...  -0.1027\n",
              "3  Beware this Covid-19 vaccine NHS email scam ex...  ...  -0.3400\n",
              "4  Merck abandons 2 potential COVID-19 vaccines o...  ...  -0.6369\n",
              "\n",
              "[5 rows x 3 columns]"
            ]
          },
          "metadata": {
            "tags": []
          },
          "execution_count": 11
        }
      ]
    },
    {
      "cell_type": "code",
      "metadata": {
        "colab": {
          "base_uri": "https://localhost:8080/",
          "height": 204
        },
        "id": "xwhTAu0e_0p_",
        "outputId": "fa84e4d2-b84f-499d-cc32-1712985e1c8d"
      },
      "source": [
        "df_tw['label'] = df_tw['compound'].apply(lambda c: 'pos' if c>0 else ('neu' if c==0 else 'neg'))\n",
        "\n",
        "df_tw.head()"
      ],
      "execution_count": null,
      "outputs": [
        {
          "output_type": "execute_result",
          "data": {
            "text/html": [
              "<div>\n",
              "<style scoped>\n",
              "    .dataframe tbody tr th:only-of-type {\n",
              "        vertical-align: middle;\n",
              "    }\n",
              "\n",
              "    .dataframe tbody tr th {\n",
              "        vertical-align: top;\n",
              "    }\n",
              "\n",
              "    .dataframe thead th {\n",
              "        text-align: right;\n",
              "    }\n",
              "</style>\n",
              "<table border=\"1\" class=\"dataframe\">\n",
              "  <thead>\n",
              "    <tr style=\"text-align: right;\">\n",
              "      <th></th>\n",
              "      <th>tweet</th>\n",
              "      <th>scores</th>\n",
              "      <th>compound</th>\n",
              "      <th>label</th>\n",
              "    </tr>\n",
              "  </thead>\n",
              "  <tbody>\n",
              "    <tr>\n",
              "      <th>0</th>\n",
              "      <td>Cool cool , vaccine supplies were diverted fro...</td>\n",
              "      <td>{'neg': 0.0, 'neu': 0.654, 'pos': 0.346, 'comp...</td>\n",
              "      <td>0.7506</td>\n",
              "      <td>pos</td>\n",
              "    </tr>\n",
              "    <tr>\n",
              "      <th>1</th>\n",
              "      <td>Please , stop using term ‘ Covid vaccine ’ . T...</td>\n",
              "      <td>{'neg': 0.126, 'neu': 0.743, 'pos': 0.131, 'co...</td>\n",
              "      <td>0.0258</td>\n",
              "      <td>pos</td>\n",
              "    </tr>\n",
              "    <tr>\n",
              "      <th>2</th>\n",
              "      <td>Mullahs religious fundamentalists Pakistan tod...</td>\n",
              "      <td>{'neg': 0.113, 'neu': 0.887, 'pos': 0.0, 'comp...</td>\n",
              "      <td>-0.1027</td>\n",
              "      <td>neg</td>\n",
              "    </tr>\n",
              "    <tr>\n",
              "      <th>3</th>\n",
              "      <td>Beware this Covid-19 vaccine NHS email scam ex...</td>\n",
              "      <td>{'neg': 0.345, 'neu': 0.473, 'pos': 0.182, 'co...</td>\n",
              "      <td>-0.3400</td>\n",
              "      <td>neg</td>\n",
              "    </tr>\n",
              "    <tr>\n",
              "      <th>4</th>\n",
              "      <td>Merck abandons 2 potential COVID-19 vaccines o...</td>\n",
              "      <td>{'neg': 0.426, 'neu': 0.574, 'pos': 0.0, 'comp...</td>\n",
              "      <td>-0.6369</td>\n",
              "      <td>neg</td>\n",
              "    </tr>\n",
              "  </tbody>\n",
              "</table>\n",
              "</div>"
            ],
            "text/plain": [
              "                                               tweet  ... label\n",
              "0  Cool cool , vaccine supplies were diverted fro...  ...   pos\n",
              "1  Please , stop using term ‘ Covid vaccine ’ . T...  ...   pos\n",
              "2  Mullahs religious fundamentalists Pakistan tod...  ...   neg\n",
              "3  Beware this Covid-19 vaccine NHS email scam ex...  ...   neg\n",
              "4  Merck abandons 2 potential COVID-19 vaccines o...  ...   neg\n",
              "\n",
              "[5 rows x 4 columns]"
            ]
          },
          "metadata": {
            "tags": []
          },
          "execution_count": 12
        }
      ]
    },
    {
      "cell_type": "code",
      "metadata": {
        "id": "LqrpeESQKS0e"
      },
      "source": [
        "%matplotlib inline \n",
        "\n",
        "import matplotlib as mpl\n",
        "import matplotlib.pyplot as plt"
      ],
      "execution_count": null,
      "outputs": []
    },
    {
      "cell_type": "code",
      "metadata": {
        "colab": {
          "base_uri": "https://localhost:8080/",
          "height": 404
        },
        "id": "n3Op5UdPQM5l",
        "outputId": "4e884f59-f4ba-4743-b2b1-276f95f7c64d"
      },
      "source": [
        "df_tw['compound'].plot(kind='hist', figsize=(10,6))\n",
        "plt.title('Histogram of Compound Scores') # add a title to the histogram\n",
        "plt.ylabel('Frequency') # add y-label\n",
        "plt.xlabel('Compounds Score') # add x-label\n",
        "\n",
        "plt.show()"
      ],
      "execution_count": null,
      "outputs": [
        {
          "output_type": "display_data",
          "data": {
            "image/png": "[encoded data removed]",
            "text/plain": [
              "<Figure size 720x432 with 1 Axes>"
            ]
          },
          "metadata": {
            "tags": [],
            "needs_background": "light"
          }
        }
      ]
    },
    {
      "cell_type": "code",
      "metadata": {
        "id": "e3S_N1UyKh6_"
      },
      "source": [
        "def tweetlength(tweet):\n",
        "  res = len(tweet.split())\n",
        "  return str(res)"
      ],
      "execution_count": null,
      "outputs": []
    },
    {
      "cell_type": "code",
      "metadata": {
        "colab": {
          "base_uri": "https://localhost:8080/",
          "height": 204
        },
        "id": "3amkCUxDLJUD",
        "outputId": "fae001c5-5555-4387-aab6-ecc5b4595844"
      },
      "source": [
        "df_tw['length'] = df_tw['tweet'].apply(tweetlength)\n",
        "df_tw.head()"
      ],
      "execution_count": null,
      "outputs": [
        {
          "output_type": "execute_result",
          "data": {
            "text/html": [
              "<div>\n",
              "<style scoped>\n",
              "    .dataframe tbody tr th:only-of-type {\n",
              "        vertical-align: middle;\n",
              "    }\n",
              "\n",
              "    .dataframe tbody tr th {\n",
              "        vertical-align: top;\n",
              "    }\n",
              "\n",
              "    .dataframe thead th {\n",
              "        text-align: right;\n",
              "    }\n",
              "</style>\n",
              "<table border=\"1\" class=\"dataframe\">\n",
              "  <thead>\n",
              "    <tr style=\"text-align: right;\">\n",
              "      <th></th>\n",
              "      <th>tweet</th>\n",
              "      <th>scores</th>\n",
              "      <th>compound</th>\n",
              "      <th>label</th>\n",
              "      <th>length</th>\n",
              "    </tr>\n",
              "  </thead>\n",
              "  <tbody>\n",
              "    <tr>\n",
              "      <th>0</th>\n",
              "      <td>Cool cool , vaccine supplies were diverted fro...</td>\n",
              "      <td>{'neg': 0.0, 'neu': 0.654, 'pos': 0.346, 'comp...</td>\n",
              "      <td>0.7506</td>\n",
              "      <td>pos</td>\n",
              "      <td>18</td>\n",
              "    </tr>\n",
              "    <tr>\n",
              "      <th>1</th>\n",
              "      <td>Please , stop using term ‘ Covid vaccine ’ . T...</td>\n",
              "      <td>{'neg': 0.126, 'neu': 0.743, 'pos': 0.131, 'co...</td>\n",
              "      <td>0.0258</td>\n",
              "      <td>pos</td>\n",
              "      <td>22</td>\n",
              "    </tr>\n",
              "    <tr>\n",
              "      <th>2</th>\n",
              "      <td>Mullahs religious fundamentalists Pakistan tod...</td>\n",
              "      <td>{'neg': 0.113, 'neu': 0.887, 'pos': 0.0, 'comp...</td>\n",
              "      <td>-0.1027</td>\n",
              "      <td>neg</td>\n",
              "      <td>13</td>\n",
              "    </tr>\n",
              "    <tr>\n",
              "      <th>3</th>\n",
              "      <td>Beware this Covid-19 vaccine NHS email scam ex...</td>\n",
              "      <td>{'neg': 0.345, 'neu': 0.473, 'pos': 0.182, 'co...</td>\n",
              "      <td>-0.3400</td>\n",
              "      <td>neg</td>\n",
              "      <td>11</td>\n",
              "    </tr>\n",
              "    <tr>\n",
              "      <th>4</th>\n",
              "      <td>Merck abandons 2 potential COVID-19 vaccines o...</td>\n",
              "      <td>{'neg': 0.426, 'neu': 0.574, 'pos': 0.0, 'comp...</td>\n",
              "      <td>-0.6369</td>\n",
              "      <td>neg</td>\n",
              "      <td>12</td>\n",
              "    </tr>\n",
              "  </tbody>\n",
              "</table>\n",
              "</div>"
            ],
            "text/plain": [
              "                                               tweet  ... length\n",
              "0  Cool cool , vaccine supplies were diverted fro...  ...     18\n",
              "1  Please , stop using term ‘ Covid vaccine ’ . T...  ...     22\n",
              "2  Mullahs religious fundamentalists Pakistan tod...  ...     13\n",
              "3  Beware this Covid-19 vaccine NHS email scam ex...  ...     11\n",
              "4  Merck abandons 2 potential COVID-19 vaccines o...  ...     12\n",
              "\n",
              "[5 rows x 5 columns]"
            ]
          },
          "metadata": {
            "tags": []
          },
          "execution_count": 16
        }
      ]
    },
    {
      "cell_type": "code",
      "metadata": {
        "colab": {
          "base_uri": "https://localhost:8080/",
          "height": 204
        },
        "id": "2ejnhF_0Ox3a",
        "outputId": "fb02215d-e43a-412f-c77d-66799644149a"
      },
      "source": [
        "df_tw['positive']  = df_tw['scores'].apply(lambda score_dict: score_dict['pos'])\n",
        "df_tw['negative']  = df_tw['scores'].apply(lambda score_dict: score_dict['neg'])\n",
        "df_tw.head()"
      ],
      "execution_count": null,
      "outputs": [
        {
          "output_type": "execute_result",
          "data": {
            "text/html": [
              "<div>\n",
              "<style scoped>\n",
              "    .dataframe tbody tr th:only-of-type {\n",
              "        vertical-align: middle;\n",
              "    }\n",
              "\n",
              "    .dataframe tbody tr th {\n",
              "        vertical-align: top;\n",
              "    }\n",
              "\n",
              "    .dataframe thead th {\n",
              "        text-align: right;\n",
              "    }\n",
              "</style>\n",
              "<table border=\"1\" class=\"dataframe\">\n",
              "  <thead>\n",
              "    <tr style=\"text-align: right;\">\n",
              "      <th></th>\n",
              "      <th>tweet</th>\n",
              "      <th>scores</th>\n",
              "      <th>compound</th>\n",
              "      <th>label</th>\n",
              "      <th>length</th>\n",
              "      <th>positive</th>\n",
              "      <th>negative</th>\n",
              "    </tr>\n",
              "  </thead>\n",
              "  <tbody>\n",
              "    <tr>\n",
              "      <th>0</th>\n",
              "      <td>Cool cool , vaccine supplies were diverted fro...</td>\n",
              "      <td>{'neg': 0.0, 'neu': 0.654, 'pos': 0.346, 'comp...</td>\n",
              "      <td>0.7506</td>\n",
              "      <td>pos</td>\n",
              "      <td>18</td>\n",
              "      <td>0.346</td>\n",
              "      <td>0.000</td>\n",
              "    </tr>\n",
              "    <tr>\n",
              "      <th>1</th>\n",
              "      <td>Please , stop using term ‘ Covid vaccine ’ . T...</td>\n",
              "      <td>{'neg': 0.126, 'neu': 0.743, 'pos': 0.131, 'co...</td>\n",
              "      <td>0.0258</td>\n",
              "      <td>pos</td>\n",
              "      <td>22</td>\n",
              "      <td>0.131</td>\n",
              "      <td>0.126</td>\n",
              "    </tr>\n",
              "    <tr>\n",
              "      <th>2</th>\n",
              "      <td>Mullahs religious fundamentalists Pakistan tod...</td>\n",
              "      <td>{'neg': 0.113, 'neu': 0.887, 'pos': 0.0, 'comp...</td>\n",
              "      <td>-0.1027</td>\n",
              "      <td>neg</td>\n",
              "      <td>13</td>\n",
              "      <td>0.000</td>\n",
              "      <td>0.113</td>\n",
              "    </tr>\n",
              "    <tr>\n",
              "      <th>3</th>\n",
              "      <td>Beware this Covid-19 vaccine NHS email scam ex...</td>\n",
              "      <td>{'neg': 0.345, 'neu': 0.473, 'pos': 0.182, 'co...</td>\n",
              "      <td>-0.3400</td>\n",
              "      <td>neg</td>\n",
              "      <td>11</td>\n",
              "      <td>0.182</td>\n",
              "      <td>0.345</td>\n",
              "    </tr>\n",
              "    <tr>\n",
              "      <th>4</th>\n",
              "      <td>Merck abandons 2 potential COVID-19 vaccines o...</td>\n",
              "      <td>{'neg': 0.426, 'neu': 0.574, 'pos': 0.0, 'comp...</td>\n",
              "      <td>-0.6369</td>\n",
              "      <td>neg</td>\n",
              "      <td>12</td>\n",
              "      <td>0.000</td>\n",
              "      <td>0.426</td>\n",
              "    </tr>\n",
              "  </tbody>\n",
              "</table>\n",
              "</div>"
            ],
            "text/plain": [
              "                                               tweet  ... negative\n",
              "0  Cool cool , vaccine supplies were diverted fro...  ...    0.000\n",
              "1  Please , stop using term ‘ Covid vaccine ’ . T...  ...    0.126\n",
              "2  Mullahs religious fundamentalists Pakistan tod...  ...    0.113\n",
              "3  Beware this Covid-19 vaccine NHS email scam ex...  ...    0.345\n",
              "4  Merck abandons 2 potential COVID-19 vaccines o...  ...    0.426\n",
              "\n",
              "[5 rows x 7 columns]"
            ]
          },
          "metadata": {
            "tags": []
          },
          "execution_count": 17
        }
      ]
    },
    {
      "cell_type": "code",
      "metadata": {
        "id": "HHSXqGr_Yc6x"
      },
      "source": [
        "df_tw['length'] = pd.to_numeric(df_tw['length']) #converting column to numeric"
      ],
      "execution_count": null,
      "outputs": []
    },
    {
      "cell_type": "code",
      "metadata": {
        "colab": {
          "base_uri": "https://localhost:8080/",
          "height": 513
        },
        "id": "BLTua5ChNxZ1",
        "outputId": "01fc9bff-e10d-4539-bb5c-45ccfc3e6132"
      },
      "source": [
        "plt.figure(figsize=(10,8))\n",
        "for index, row in df_tw.iterrows():\n",
        "    if row['label'] == 'pos':\n",
        "        plt.scatter(row['compound'], row['length'], color=\"green\", s=0.5)\n",
        "    elif row['label'] == 'neg':\n",
        "        plt.scatter(row['compound'], row['length'], color=\"red\", s=0.5)\n",
        "    elif row['label'] == 'neu':\n",
        "        plt.scatter(row['compound'], row['length'], color=\"blue\", s=0.5)\n",
        "\n",
        "plt.title('Vaccine Tweets Sentiment Analysis')\n",
        "plt.xlabel('Compound Score')\n",
        "plt.ylabel('Tweet length')\n",
        "# add legend\n",
        "plt.show()"
      ],
      "execution_count": null,
      "outputs": [
        {
          "output_type": "display_data",
          "data": {
            "image/png": "[encoded data removed]",
            "text/plain": [
              "<Figure size 720x576 with 1 Axes>"
            ]
          },
          "metadata": {
            "tags": [],
            "needs_background": "light"
          }
        }
      ]
    },
    {
      "cell_type": "code",
      "metadata": {
        "colab": {
          "base_uri": "https://localhost:8080/",
          "height": 404
        },
        "id": "Qx56WM8RYTzd",
        "outputId": "c5e2bb97-a983-4f3e-cc85-8b410f21020d"
      },
      "source": [
        "df_tw['length'].plot(kind='hist', figsize=(10,6))\n",
        "plt.title('Histogram of Length of Tweets') # add a title to the histogram\n",
        "plt.ylabel('Frequency') # add y-label\n",
        "plt.xlabel('Length of Tweets') # add x-label\n",
        "\n",
        "plt.show()"
      ],
      "execution_count": null,
      "outputs": [
        {
          "output_type": "display_data",
          "data": {
            "image/png": "[encoded data removed]",
            "text/plain": [
              "<Figure size 720x432 with 1 Axes>"
            ]
          },
          "metadata": {
            "tags": [],
            "needs_background": "light"
          }
        }
      ]
    },
    {
      "cell_type": "code",
      "metadata": {
        "id": "6lcV-Lo7QGGM"
      },
      "source": [
        "# WordCloud - Python library for creating image wordclouds\n",
        "from wordcloud import WordCloud"
      ],
      "execution_count": null,
      "outputs": []
    },
    {
      "cell_type": "code",
      "metadata": {
        "colab": {
          "base_uri": "https://localhost:8080/",
          "height": 197
        },
        "id": "F1wXjvVNQHv6",
        "outputId": "382d65dd-9ed6-4374-b310-08330a3f409d"
      },
      "source": [
        "# Creating a word cloud\n",
        "words = ' '.join([tweet for tweet in df_tw['tweet']])\n",
        "stopwords='vaccine'\n",
        "# Generate a word cloud image\n",
        "wordcloud = WordCloud(stopwords=stopwords, background_color=\"white\").generate(words)\n",
        "\n",
        "# Display the generated image:\n",
        "# the matplotlib way:\n",
        "plt.imshow(wordcloud, interpolation='bilinear')\n",
        "plt.axis(\"off\")\n",
        "plt.show()"
      ],
      "execution_count": null,
      "outputs": [
        {
          "output_type": "display_data",
          "data": {
            "image/png": "[encoded data removed]",
            "text/plain": [
              "<Figure size 432x288 with 1 Axes>"
            ]
          },
          "metadata": {
            "tags": [],
            "needs_background": "light"
          }
        }
      ]
    },
    {
      "cell_type": "code",
      "metadata": {
        "id": "YK4hB48cCs39",
        "colab": {
          "base_uri": "https://localhost:8080/",
          "height": 638
        },
        "outputId": "a28948c1-0d6f-4125-e302-c35463034099"
      },
      "source": [
        "import collections\n",
        "from matplotlib import cm\n",
        "from matplotlib import rcParams\n",
        "filtered_words = [word for word in words.split() if word not in stopwords]\n",
        "counted_words = collections.Counter(filtered_words)\n",
        "\n",
        "words_1 = []\n",
        "counts = []\n",
        "for letter, count in counted_words.most_common(10):\n",
        "    words_1.append(letter)\n",
        "    counts.append(count)\n",
        "  \n",
        "colors = cm.rainbow(np.linspace(0, 1, 10))\n",
        "rcParams['figure.figsize'] = 20, 10\n",
        "\n",
        "plt.title('Top words in the headlines vs their count')\n",
        "plt.xlabel('Count')\n",
        "plt.ylabel('Words')\n",
        "plt.barh(words_1, counts, color=colors)"
      ],
      "execution_count": null,
      "outputs": [
        {
          "output_type": "execute_result",
          "data": {
            "text/plain": [
              "<BarContainer object of 10 artists>"
            ]
          },
          "metadata": {
            "tags": []
          },
          "execution_count": 39
        },
        {
          "output_type": "display_data",
          "data": {
            "image/png": "[encoded data removed]",
            "text/plain": [
              "<Figure size 1440x720 with 1 Axes>"
            ]
          },
          "metadata": {
            "tags": [],
            "needs_background": "light"
          }
        }
      ]
    },
    {
      "cell_type": "code",
      "metadata": {
        "colab": {
          "base_uri": "https://localhost:8080/"
        },
        "id": "QVxqzoiKA3jx",
        "outputId": "608679fa-7e4d-491f-9d3d-8a27329eb329"
      },
      "source": [
        "df_tw['label'].value_counts()"
      ],
      "execution_count": null,
      "outputs": [
        {
          "output_type": "execute_result",
          "data": {
            "text/plain": [
              "pos    2014\n",
              "neu    1794\n",
              "neg    1243\n",
              "Name: label, dtype: int64"
            ]
          },
          "metadata": {
            "tags": []
          },
          "execution_count": 25
        }
      ]
    },
    {
      "cell_type": "code",
      "metadata": {
        "id": "ytPPJlHdaYG7"
      },
      "source": [
        "#TEST TO MAKE THE OUTPUT BINARY\n",
        "df_tw = df_tw[~df_tw['label'].str.contains('neu')]"
      ],
      "execution_count": null,
      "outputs": []
    },
    {
      "cell_type": "code",
      "metadata": {
        "id": "piNr8ko-BY-E"
      },
      "source": [
        "%matplotlib inline \n",
        "\n",
        "import matplotlib as mpl\n",
        "import matplotlib.pyplot as plt"
      ],
      "execution_count": null,
      "outputs": []
    },
    {
      "cell_type": "code",
      "metadata": {
        "colab": {
          "base_uri": "https://localhost:8080/",
          "height": 318
        },
        "id": "Gyy_IyRtBcDW",
        "outputId": "89a36d34-9b06-4a94-d8c7-c38f53cc69a0"
      },
      "source": [
        "df_tw['label'].value_counts().plot(kind='pie', figsize=(8, 5),autopct='%1.1f%%',\n",
        "                            startangle=90)\n",
        "\n",
        "plt.title('Number of each sentiment type for tweets about covid-19 vaccine') \n",
        "plt.axis('equal') \n",
        "plt.show()"
      ],
      "execution_count": null,
      "outputs": [
        {
          "output_type": "display_data",
          "data": {
            "image/png": "[encoded data removed]",
            "text/plain": [
              "<Figure size 576x360 with 1 Axes>"
            ]
          },
          "metadata": {
            "tags": []
          }
        }
      ]
    },
    {
      "cell_type": "markdown",
      "metadata": {
        "id": "_LEgM9U3E8IB"
      },
      "source": [
        "# Machine Learning Sentiment Analysis: "
      ]
    },
    {
      "cell_type": "code",
      "metadata": {
        "id": "M-6eEraVDDkA"
      },
      "source": [
        "from sklearn.model_selection import train_test_split\n",
        "from sklearn.feature_extraction.text import CountVectorizer\n",
        "from sklearn import metrics #Import scikit-learn metrics module for accuracy calculation"
      ],
      "execution_count": null,
      "outputs": []
    },
    {
      "cell_type": "code",
      "metadata": {
        "colab": {
          "base_uri": "https://localhost:8080/",
          "height": 197
        },
        "id": "FjJXbbbEDHK_",
        "outputId": "5204ae80-12cf-4500-c221-f06431e1813b"
      },
      "source": [
        "df_sent = pd.DataFrame(df_tw.iloc[:, [0,3]])\n",
        "df_sent.head()"
      ],
      "execution_count": null,
      "outputs": [
        {
          "output_type": "execute_result",
          "data": {
            "text/html": [
              "<div>\n",
              "<style scoped>\n",
              "    .dataframe tbody tr th:only-of-type {\n",
              "        vertical-align: middle;\n",
              "    }\n",
              "\n",
              "    .dataframe tbody tr th {\n",
              "        vertical-align: top;\n",
              "    }\n",
              "\n",
              "    .dataframe thead th {\n",
              "        text-align: right;\n",
              "    }\n",
              "</style>\n",
              "<table border=\"1\" class=\"dataframe\">\n",
              "  <thead>\n",
              "    <tr style=\"text-align: right;\">\n",
              "      <th></th>\n",
              "      <th>tweet</th>\n",
              "      <th>label</th>\n",
              "    </tr>\n",
              "  </thead>\n",
              "  <tbody>\n",
              "    <tr>\n",
              "      <th>0</th>\n",
              "      <td>Cool cool , vaccine supplies were diverted fro...</td>\n",
              "      <td>pos</td>\n",
              "    </tr>\n",
              "    <tr>\n",
              "      <th>1</th>\n",
              "      <td>Please , stop using term ‘ Covid vaccine ’ . T...</td>\n",
              "      <td>pos</td>\n",
              "    </tr>\n",
              "    <tr>\n",
              "      <th>2</th>\n",
              "      <td>Mullahs religious fundamentalists Pakistan tod...</td>\n",
              "      <td>neg</td>\n",
              "    </tr>\n",
              "    <tr>\n",
              "      <th>3</th>\n",
              "      <td>Beware this Covid-19 vaccine NHS email scam ex...</td>\n",
              "      <td>neg</td>\n",
              "    </tr>\n",
              "    <tr>\n",
              "      <th>4</th>\n",
              "      <td>Merck abandons 2 potential COVID-19 vaccines o...</td>\n",
              "      <td>neg</td>\n",
              "    </tr>\n",
              "  </tbody>\n",
              "</table>\n",
              "</div>"
            ],
            "text/plain": [
              "                                               tweet label\n",
              "0  Cool cool , vaccine supplies were diverted fro...   pos\n",
              "1  Please , stop using term ‘ Covid vaccine ’ . T...   pos\n",
              "2  Mullahs religious fundamentalists Pakistan tod...   neg\n",
              "3  Beware this Covid-19 vaccine NHS email scam ex...   neg\n",
              "4  Merck abandons 2 potential COVID-19 vaccines o...   neg"
            ]
          },
          "metadata": {
            "tags": []
          },
          "execution_count": 45
        }
      ]
    },
    {
      "cell_type": "code",
      "metadata": {
        "id": "tif2PnbfDNYC"
      },
      "source": [
        "# extract features\n",
        "def extract_features(df,field,training_data,testing_data):\n",
        "  cv= CountVectorizer(binary=True, max_df=0.95)\n",
        "  cv.fit_transform(training_data[field].values)\n",
        "  train_feature_set=cv.transform(training_data[field].values)\n",
        "  test_feature_set=cv.transform(testing_data[field].values)\n",
        "  return train_feature_set,test_feature_set,cv"
      ],
      "execution_count": null,
      "outputs": []
    },
    {
      "cell_type": "code",
      "metadata": {
        "id": "8U0ebuhxD6Zu"
      },
      "source": [
        "#create features\n",
        "#field  - column name contains the review text\n",
        "field = 'tweet'\n",
        "# GET A TRAIN TEST SPLIT (set seed for consistent results)\n",
        "training_data,testing_data = train_test_split(df_tw,random_state = 2000)\n",
        "# GET FEATURES\n",
        "X_train,X_test, feature_transformer=extract_features(df_tw,field,training_data,testing_data)\n",
        "# GET LABELS\n",
        "Y_train=training_data['label'].values\n",
        "Y_test=testing_data['label'].values"
      ],
      "execution_count": null,
      "outputs": []
    },
    {
      "cell_type": "code",
      "metadata": {
        "colab": {
          "base_uri": "https://localhost:8080/"
        },
        "id": "r8GpOQviEqgD",
        "outputId": "832d68a9-6029-49b7-bafc-a6d38e56cc47"
      },
      "source": [
        "#importing classifier - svm\n",
        "from sklearn.svm import SVC\n",
        "\n",
        "#training the linear svm\n",
        "from sklearn.linear_model import SGDClassifier\n",
        "svm=SGDClassifier(loss='hinge',max_iter=1000,random_state=42)\n",
        "\n",
        "#fitting the svm for tfidf features\n",
        "model_svm = svm.fit(X_train,Y_train)\n",
        "svm_predicted = model_svm.predict(X_test)\n",
        "print(\"SVM Accuracy with TFIDF:\",metrics.accuracy_score(Y_test, svm_predicted))"
      ],
      "execution_count": null,
      "outputs": [
        {
          "output_type": "stream",
          "text": [
            "SVM Accuracy with TFIDF: 0.8282208588957055\n"
          ],
          "name": "stdout"
        }
      ]
    },
    {
      "cell_type": "code",
      "metadata": {
        "colab": {
          "base_uri": "https://localhost:8080/"
        },
        "id": "ZJQmS2qqTQpB",
        "outputId": "c81f4896-ddf6-4324-8688-091ae9189c7f"
      },
      "source": [
        "from sklearn.linear_model import RidgeClassifier\n",
        "rcl = RidgeClassifier(max_iter=1000, random_state=42)\n",
        "\n",
        "model_rcl = rcl.fit(X_train, Y_train)\n",
        "rcl_predicted = model_rcl.predict(X_test)\n",
        "\n",
        "print(\"Ridge Classifier Accuracy:\", metrics.accuracy_score(Y_test, rcl_predicted))"
      ],
      "execution_count": null,
      "outputs": [
        {
          "output_type": "stream",
          "text": [
            "Ridge Classifier Accuracy: 0.8306748466257668\n"
          ],
          "name": "stdout"
        }
      ]
    },
    {
      "cell_type": "code",
      "metadata": {
        "id": "yygIKmpeXEay"
      },
      "source": [
        "from sklearn.metrics import confusion_matrix\n",
        "from sklearn.metrics import classification_report"
      ],
      "execution_count": null,
      "outputs": []
    },
    {
      "cell_type": "code",
      "metadata": {
        "colab": {
          "base_uri": "https://localhost:8080/"
        },
        "id": "-Cd0-BJefGSv",
        "outputId": "bcb4c80d-fe81-4c9e-d1ce-93479d07b873"
      },
      "source": [
        "matrix = confusion_matrix(Y_test, svm_predicted)\n",
        "print('Confusion matrix : \\n',matrix)"
      ],
      "execution_count": null,
      "outputs": [
        {
          "output_type": "stream",
          "text": [
            "Confusion matrix : \n",
            " [[242  63]\n",
            " [ 77 433]]\n"
          ],
          "name": "stdout"
        }
      ]
    },
    {
      "cell_type": "code",
      "metadata": {
        "colab": {
          "base_uri": "https://localhost:8080/"
        },
        "id": "1RZgsojifnEl",
        "outputId": "3d127523-2132-45be-e27a-22ebf95708da"
      },
      "source": [
        "matrix2 = classification_report(Y_test, svm_predicted)\n",
        "print('Classification report for SVM: \\n',matrix2)"
      ],
      "execution_count": null,
      "outputs": [
        {
          "output_type": "stream",
          "text": [
            "Classification report for SVM: \n",
            "               precision    recall  f1-score   support\n",
            "\n",
            "         neg       0.76      0.79      0.78       305\n",
            "         pos       0.87      0.85      0.86       510\n",
            "\n",
            "    accuracy                           0.83       815\n",
            "   macro avg       0.82      0.82      0.82       815\n",
            "weighted avg       0.83      0.83      0.83       815\n",
            "\n"
          ],
          "name": "stdout"
        }
      ]
    },
    {
      "cell_type": "code",
      "metadata": {
        "colab": {
          "base_uri": "https://localhost:8080/"
        },
        "id": "gvG4DdIYd8KV",
        "outputId": "28e829ff-7ce5-4400-87d4-760d526d4144"
      },
      "source": [
        "matrix3 = classification_report(Y_test, rcl_predicted)\n",
        "print('Classification report for RidgeClassifier: \\n', matrix3)"
      ],
      "execution_count": null,
      "outputs": [
        {
          "output_type": "stream",
          "text": [
            "Classification report for RidgeClassifier: \n",
            "               precision    recall  f1-score   support\n",
            "\n",
            "         neg       0.78      0.76      0.77       305\n",
            "         pos       0.86      0.87      0.87       510\n",
            "\n",
            "    accuracy                           0.83       815\n",
            "   macro avg       0.82      0.82      0.82       815\n",
            "weighted avg       0.83      0.83      0.83       815\n",
            "\n"
          ],
          "name": "stdout"
        }
      ]
    },
    {
      "cell_type": "code",
      "metadata": {
        "id": "XjIJbD3EJaR6"
      },
      "source": [
        "df_tw.to_csv('CV19Vaccine.csv', index= False)"
      ],
      "execution_count": null,
      "outputs": []
    },
    {
      "cell_type": "code",
      "metadata": {
        "id": "b7lIqxohbl5M"
      },
      "source": [
        ""
      ],
      "execution_count": null,
      "outputs": []
    }
  ]
}