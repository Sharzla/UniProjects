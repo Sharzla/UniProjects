{
  "nbformat": 4,
  "nbformat_minor": 0,
  "metadata": {
    "colab": {
      "name": "TweetSentimentAnalysis_A171183.ipynb",
      "provenance": [],
      "authorship_tag": "ABX9TyPW7a/hQzrfd/7m/qoKterS",
      "include_colab_link": true
    },
    "kernelspec": {
      "name": "python3",
      "display_name": "Python 3"
    }
  },
  "cells": [
    {
      "cell_type": "markdown",
      "metadata": {
        "id": "view-in-github",
        "colab_type": "text"
      },
      "source": [
        "<a href=\"https://colab.research.google.com/github/Sharzla/UniProjects/blob/main/TweetSentimentAnalysis_A171183.ipynb\" target=\"_parent\"><img src=\"https://colab.research.google.com/assets/colab-badge.svg\" alt=\"Open In Colab\"/></a>"
      ]
    },
    {
      "cell_type": "markdown",
      "metadata": {
        "id": "A7IK2UvhouPk"
      },
      "source": [
        "# TWEET SENTIMENT ANALYSIS\n",
        "Prepared by : Shasha Arzila binti Tarmizi (A171183)"
      ]
    },
    {
      "cell_type": "code",
      "metadata": {
        "id": "n4dpsy0dgWu7"
      },
      "source": [
        "import pandas as pd\n",
        "import numpy as np\n",
        "import re"
      ],
      "execution_count": null,
      "outputs": []
    },
    {
      "cell_type": "markdown",
      "metadata": {
        "id": "_S94Erv4ozMX"
      },
      "source": [
        "Load csv files:"
      ]
    },
    {
      "cell_type": "code",
      "metadata": {
        "colab": {
          "base_uri": "https://localhost:8080/",
          "height": 377
        },
        "id": "aa1HfRyyhQ4e",
        "outputId": "21e7dfdb-43ea-4de9-c56e-8d4a271ae194"
      },
      "source": [
        "tweets = pd.read_csv(\"tweets.csv\")\n",
        "tweets.head()"
      ],
      "execution_count": null,
      "outputs": [
        {
          "output_type": "execute_result",
          "data": {
            "text/html": [
              "<div>\n",
              "<style scoped>\n",
              "    .dataframe tbody tr th:only-of-type {\n",
              "        vertical-align: middle;\n",
              "    }\n",
              "\n",
              "    .dataframe tbody tr th {\n",
              "        vertical-align: top;\n",
              "    }\n",
              "\n",
              "    .dataframe thead th {\n",
              "        text-align: right;\n",
              "    }\n",
              "</style>\n",
              "<table border=\"1\" class=\"dataframe\">\n",
              "  <thead>\n",
              "    <tr style=\"text-align: right;\">\n",
              "      <th></th>\n",
              "      <th>Unnamed: 0</th>\n",
              "      <th>tweet_dt</th>\n",
              "      <th>topic</th>\n",
              "      <th>id</th>\n",
              "      <th>username</th>\n",
              "      <th>name</th>\n",
              "      <th>tweet</th>\n",
              "      <th>like_count</th>\n",
              "      <th>reply_count</th>\n",
              "      <th>retweet_count</th>\n",
              "      <th>retweeted</th>\n",
              "    </tr>\n",
              "  </thead>\n",
              "  <tbody>\n",
              "    <tr>\n",
              "      <th>0</th>\n",
              "      <td>0</td>\n",
              "      <td>2021-01-26</td>\n",
              "      <td>#bustedseason3</td>\n",
              "      <td>1353887287847702529</td>\n",
              "      <td>oshvlt</td>\n",
              "      <td>ayi | busted s3 on netflix!</td>\n",
              "      <td>watching ep 7 now 🏃‍♀️ #SEHUN #세훈 #엑소세훈 #Buste...</td>\n",
              "      <td>0</td>\n",
              "      <td>0</td>\n",
              "      <td>0</td>\n",
              "      <td>False</td>\n",
              "    </tr>\n",
              "    <tr>\n",
              "      <th>1</th>\n",
              "      <td>1</td>\n",
              "      <td>2021-01-26</td>\n",
              "      <td>#bustedseason3</td>\n",
              "      <td>1353880914737172480</td>\n",
              "      <td>vlzzn</td>\n",
              "      <td>🕵🏻‍♂️🏹☠🏴🐥</td>\n",
              "      <td>Woaaaah Oh Sehun's deductive skills in ep 6, w...</td>\n",
              "      <td>0</td>\n",
              "      <td>0</td>\n",
              "      <td>0</td>\n",
              "      <td>False</td>\n",
              "    </tr>\n",
              "    <tr>\n",
              "      <th>2</th>\n",
              "      <td>2</td>\n",
              "      <td>2021-01-26</td>\n",
              "      <td>#bustedseason3</td>\n",
              "      <td>1353880193933348864</td>\n",
              "      <td>amschelarapcnl</td>\n",
              "      <td>End the game book sponsor pls</td>\n",
              "      <td>Busted Season 4 plssssssss\\n\\n#BustedSeason3 \\...</td>\n",
              "      <td>1</td>\n",
              "      <td>0</td>\n",
              "      <td>1</td>\n",
              "      <td>False</td>\n",
              "    </tr>\n",
              "    <tr>\n",
              "      <th>3</th>\n",
              "      <td>3</td>\n",
              "      <td>2021-01-26</td>\n",
              "      <td>#bustedseason3</td>\n",
              "      <td>1353878750048505857</td>\n",
              "      <td>morgan_swain</td>\n",
              "      <td>morgana (she/her) • bIm</td>\n",
              "      <td>STOP why is the closing sequence for the @Bust...</td>\n",
              "      <td>0</td>\n",
              "      <td>0</td>\n",
              "      <td>0</td>\n",
              "      <td>False</td>\n",
              "    </tr>\n",
              "    <tr>\n",
              "      <th>4</th>\n",
              "      <td>4</td>\n",
              "      <td>2021-01-26</td>\n",
              "      <td>#bustedseason3</td>\n",
              "      <td>1353877098306400258</td>\n",
              "      <td>ImYakini</td>\n",
              "      <td>Yakini(S9NE)</td>\n",
              "      <td>Busted did that \"copycat detectives\" episode a...</td>\n",
              "      <td>0</td>\n",
              "      <td>0</td>\n",
              "      <td>0</td>\n",
              "      <td>False</td>\n",
              "    </tr>\n",
              "  </tbody>\n",
              "</table>\n",
              "</div>"
            ],
            "text/plain": [
              "   Unnamed: 0    tweet_dt  ... retweet_count  retweeted\n",
              "0           0  2021-01-26  ...             0      False\n",
              "1           1  2021-01-26  ...             0      False\n",
              "2           2  2021-01-26  ...             1      False\n",
              "3           3  2021-01-26  ...             0      False\n",
              "4           4  2021-01-26  ...             0      False\n",
              "\n",
              "[5 rows x 11 columns]"
            ]
          },
          "metadata": {
            "tags": []
          },
          "execution_count": 2
        }
      ]
    },
    {
      "cell_type": "markdown",
      "metadata": {
        "id": "uz2bf0s1o7_M"
      },
      "source": [
        "Create new dataframe containing tweets:"
      ]
    },
    {
      "cell_type": "code",
      "metadata": {
        "colab": {
          "base_uri": "https://localhost:8080/",
          "height": 204
        },
        "id": "woO3blsChjzt",
        "outputId": "22e987aa-e6f3-4e9b-b49e-902a148d8a0f"
      },
      "source": [
        "df_tw = pd.DataFrame(tweets.iloc[:, 6])\n",
        "df_tw.head()"
      ],
      "execution_count": null,
      "outputs": [
        {
          "output_type": "execute_result",
          "data": {
            "text/html": [
              "<div>\n",
              "<style scoped>\n",
              "    .dataframe tbody tr th:only-of-type {\n",
              "        vertical-align: middle;\n",
              "    }\n",
              "\n",
              "    .dataframe tbody tr th {\n",
              "        vertical-align: top;\n",
              "    }\n",
              "\n",
              "    .dataframe thead th {\n",
              "        text-align: right;\n",
              "    }\n",
              "</style>\n",
              "<table border=\"1\" class=\"dataframe\">\n",
              "  <thead>\n",
              "    <tr style=\"text-align: right;\">\n",
              "      <th></th>\n",
              "      <th>tweet</th>\n",
              "    </tr>\n",
              "  </thead>\n",
              "  <tbody>\n",
              "    <tr>\n",
              "      <th>0</th>\n",
              "      <td>watching ep 7 now 🏃‍♀️ #SEHUN #세훈 #엑소세훈 #Buste...</td>\n",
              "    </tr>\n",
              "    <tr>\n",
              "      <th>1</th>\n",
              "      <td>Woaaaah Oh Sehun's deductive skills in ep 6, w...</td>\n",
              "    </tr>\n",
              "    <tr>\n",
              "      <th>2</th>\n",
              "      <td>Busted Season 4 plssssssss\\n\\n#BustedSeason3 \\...</td>\n",
              "    </tr>\n",
              "    <tr>\n",
              "      <th>3</th>\n",
              "      <td>STOP why is the closing sequence for the @Bust...</td>\n",
              "    </tr>\n",
              "    <tr>\n",
              "      <th>4</th>\n",
              "      <td>Busted did that \"copycat detectives\" episode a...</td>\n",
              "    </tr>\n",
              "  </tbody>\n",
              "</table>\n",
              "</div>"
            ],
            "text/plain": [
              "                                               tweet\n",
              "0  watching ep 7 now 🏃‍♀️ #SEHUN #세훈 #엑소세훈 #Buste...\n",
              "1  Woaaaah Oh Sehun's deductive skills in ep 6, w...\n",
              "2  Busted Season 4 plssssssss\\n\\n#BustedSeason3 \\...\n",
              "3  STOP why is the closing sequence for the @Bust...\n",
              "4  Busted did that \"copycat detectives\" episode a..."
            ]
          },
          "metadata": {
            "tags": []
          },
          "execution_count": 3
        }
      ]
    },
    {
      "cell_type": "code",
      "metadata": {
        "colab": {
          "base_uri": "https://localhost:8080/",
          "height": 111
        },
        "id": "VFaEhbNjjlQs",
        "outputId": "98e0eaf9-a80a-4ffb-a902-3e0b18668ab5"
      },
      "source": [
        "# rename tweet column\n",
        "df_tw = df_tw.rename(columns={'tweet':'Tweet'})\n",
        "df_tw.head(2)"
      ],
      "execution_count": null,
      "outputs": [
        {
          "output_type": "execute_result",
          "data": {
            "text/html": [
              "<div>\n",
              "<style scoped>\n",
              "    .dataframe tbody tr th:only-of-type {\n",
              "        vertical-align: middle;\n",
              "    }\n",
              "\n",
              "    .dataframe tbody tr th {\n",
              "        vertical-align: top;\n",
              "    }\n",
              "\n",
              "    .dataframe thead th {\n",
              "        text-align: right;\n",
              "    }\n",
              "</style>\n",
              "<table border=\"1\" class=\"dataframe\">\n",
              "  <thead>\n",
              "    <tr style=\"text-align: right;\">\n",
              "      <th></th>\n",
              "      <th>Tweet</th>\n",
              "    </tr>\n",
              "  </thead>\n",
              "  <tbody>\n",
              "    <tr>\n",
              "      <th>0</th>\n",
              "      <td>watching ep 7 now 🏃‍♀️ #SEHUN #세훈 #엑소세훈 #Buste...</td>\n",
              "    </tr>\n",
              "    <tr>\n",
              "      <th>1</th>\n",
              "      <td>Woaaaah Oh Sehun's deductive skills in ep 6, w...</td>\n",
              "    </tr>\n",
              "  </tbody>\n",
              "</table>\n",
              "</div>"
            ],
            "text/plain": [
              "                                               Tweet\n",
              "0  watching ep 7 now 🏃‍♀️ #SEHUN #세훈 #엑소세훈 #Buste...\n",
              "1  Woaaaah Oh Sehun's deductive skills in ep 6, w..."
            ]
          },
          "metadata": {
            "tags": []
          },
          "execution_count": 4
        }
      ]
    },
    {
      "cell_type": "markdown",
      "metadata": {
        "id": "lBAqe7EKO7Ds"
      },
      "source": [
        "# Pre-Processing:"
      ]
    },
    {
      "cell_type": "code",
      "metadata": {
        "colab": {
          "base_uri": "https://localhost:8080/"
        },
        "id": "YI4suPWFeXpC",
        "outputId": "9658fa2d-efa4-457a-ca1a-e26021e24546"
      },
      "source": [
        "import nltk\n",
        "nltk.download('punkt')\n",
        "nltk.download('stopwords')\n",
        "from nltk.corpus import stopwords\n",
        "from nltk.tokenize import word_tokenize "
      ],
      "execution_count": null,
      "outputs": [
        {
          "output_type": "stream",
          "text": [
            "[nltk_data] Downloading package punkt to /root/nltk_data...\n",
            "[nltk_data]   Unzipping tokenizers/punkt.zip.\n",
            "[nltk_data] Downloading package stopwords to /root/nltk_data...\n",
            "[nltk_data]   Unzipping corpora/stopwords.zip.\n"
          ],
          "name": "stdout"
        }
      ]
    },
    {
      "cell_type": "code",
      "metadata": {
        "id": "46PO_HQ4ests"
      },
      "source": [
        "#function to remove stop words\n",
        "def remove_stopwords(text):\n",
        "  tokenz = word_tokenize(text)\n",
        "  stop_words = ['a', 'and', 'are', 'as', 'be','for', 'have',\n",
        "                      'in', 'is', 'of', 'or', 'that','the', 'to', 'was', 'were']\n",
        "    \n",
        "  text_noSW = list()\n",
        "\n",
        "  for i in range(0,len(tokenz)):\n",
        "\n",
        "        if tokenz[i].lower() in stop_words:   # remember to make lower! \n",
        "            pass\n",
        "        else:\n",
        "            text_noSW.append(tokenz[i])\n",
        "\n",
        "  return \" \".join(text_noSW)"
      ],
      "execution_count": null,
      "outputs": []
    },
    {
      "cell_type": "code",
      "metadata": {
        "id": "0mecIh03jOIQ"
      },
      "source": [
        "# a function to clean tweets\n",
        "def cleanUpTweet(txt):\n",
        "    txt = re.sub(r'@[A-Za-z0-9_]+', '', txt) # Remove mentions\n",
        "    txt = re.sub(r'#', '', txt) # Remove hashtags\n",
        "    txt = re.sub(r'RT : ', '', txt) # Remove retweets\n",
        "    txt = re.sub(r'https?:\\/\\/[A-Za-z0-9\\.\\/]+', '', txt) # Remove urls\n",
        "    txt = txt.replace('\\n','')\n",
        "    txt = remove_stopwords(txt)\n",
        "    return txt"
      ],
      "execution_count": null,
      "outputs": []
    },
    {
      "cell_type": "code",
      "metadata": {
        "colab": {
          "base_uri": "https://localhost:8080/",
          "height": 204
        },
        "id": "USTe0fVukDK5",
        "outputId": "ae2ec4d6-b170-428e-e3c7-c00c7fd7c085"
      },
      "source": [
        "df_tw['Tweet'] = df_tw['Tweet'].apply(cleanUpTweet)\n",
        "df_tw.head()"
      ],
      "execution_count": null,
      "outputs": [
        {
          "output_type": "execute_result",
          "data": {
            "text/html": [
              "<div>\n",
              "<style scoped>\n",
              "    .dataframe tbody tr th:only-of-type {\n",
              "        vertical-align: middle;\n",
              "    }\n",
              "\n",
              "    .dataframe tbody tr th {\n",
              "        vertical-align: top;\n",
              "    }\n",
              "\n",
              "    .dataframe thead th {\n",
              "        text-align: right;\n",
              "    }\n",
              "</style>\n",
              "<table border=\"1\" class=\"dataframe\">\n",
              "  <thead>\n",
              "    <tr style=\"text-align: right;\">\n",
              "      <th></th>\n",
              "      <th>Tweet</th>\n",
              "    </tr>\n",
              "  </thead>\n",
              "  <tbody>\n",
              "    <tr>\n",
              "      <th>0</th>\n",
              "      <td>watching ep 7 now 🏃‍♀️ SEHUN 세훈 엑소세훈 BustedSea...</td>\n",
              "    </tr>\n",
              "    <tr>\n",
              "      <th>1</th>\n",
              "      <td>Woaaaah Oh Sehun 's deductive skills ep 6 , we...</td>\n",
              "    </tr>\n",
              "    <tr>\n",
              "      <th>2</th>\n",
              "      <td>Busted Season 4 plssssssssBustedSeason3 Busted...</td>\n",
              "    </tr>\n",
              "    <tr>\n",
              "      <th>3</th>\n",
              "      <td>STOP why closing sequence season 3 finale maki...</td>\n",
              "    </tr>\n",
              "    <tr>\n",
              "      <th>4</th>\n",
              "      <td>Busted did `` copycat detectives '' episode ag...</td>\n",
              "    </tr>\n",
              "  </tbody>\n",
              "</table>\n",
              "</div>"
            ],
            "text/plain": [
              "                                               Tweet\n",
              "0  watching ep 7 now 🏃‍♀️ SEHUN 세훈 엑소세훈 BustedSea...\n",
              "1  Woaaaah Oh Sehun 's deductive skills ep 6 , we...\n",
              "2  Busted Season 4 plssssssssBustedSeason3 Busted...\n",
              "3  STOP why closing sequence season 3 finale maki...\n",
              "4  Busted did `` copycat detectives '' episode ag..."
            ]
          },
          "metadata": {
            "tags": []
          },
          "execution_count": 8
        }
      ]
    },
    {
      "cell_type": "markdown",
      "metadata": {
        "id": "SB_e-pvYl05F"
      },
      "source": [
        "# Lexicon Based Sentiment Analysis:"
      ]
    },
    {
      "cell_type": "code",
      "metadata": {
        "colab": {
          "base_uri": "https://localhost:8080/"
        },
        "id": "oV3UwIRLkxbJ",
        "outputId": "b6a28868-0ab9-4eb9-d67d-3532b2b866ba"
      },
      "source": [
        "import nltk\n",
        "nltk.download('vader_lexicon')"
      ],
      "execution_count": null,
      "outputs": [
        {
          "output_type": "stream",
          "text": [
            "[nltk_data] Downloading package vader_lexicon to /root/nltk_data...\n"
          ],
          "name": "stdout"
        },
        {
          "output_type": "execute_result",
          "data": {
            "text/plain": [
              "True"
            ]
          },
          "metadata": {
            "tags": []
          },
          "execution_count": 9
        }
      ]
    },
    {
      "cell_type": "code",
      "metadata": {
        "colab": {
          "base_uri": "https://localhost:8080/"
        },
        "id": "5K2gogBzl9A8",
        "outputId": "5b828ec8-0b6c-4734-c399-bd7490cbd5e7"
      },
      "source": [
        "from nltk.sentiment.vader import SentimentIntensityAnalyzer\n",
        "\n",
        "sid = SentimentIntensityAnalyzer()"
      ],
      "execution_count": null,
      "outputs": [
        {
          "output_type": "stream",
          "text": [
            "/usr/local/lib/python3.6/dist-packages/nltk/twitter/__init__.py:20: UserWarning: The twython library has not been installed. Some functionality from the twitter package will not be available.\n",
            "  warnings.warn(\"The twython library has not been installed. \"\n"
          ],
          "name": "stderr"
        }
      ]
    },
    {
      "cell_type": "code",
      "metadata": {
        "colab": {
          "base_uri": "https://localhost:8080/",
          "height": 204
        },
        "id": "v6pDFTkcmJsA",
        "outputId": "05604ac4-df3b-4224-e7a0-b286467ad86f"
      },
      "source": [
        "df_tw['Scores'] = df_tw['Tweet'].apply(lambda review: sid.polarity_scores(review))\n",
        "\n",
        "df_tw.head()"
      ],
      "execution_count": null,
      "outputs": [
        {
          "output_type": "execute_result",
          "data": {
            "text/html": [
              "<div>\n",
              "<style scoped>\n",
              "    .dataframe tbody tr th:only-of-type {\n",
              "        vertical-align: middle;\n",
              "    }\n",
              "\n",
              "    .dataframe tbody tr th {\n",
              "        vertical-align: top;\n",
              "    }\n",
              "\n",
              "    .dataframe thead th {\n",
              "        text-align: right;\n",
              "    }\n",
              "</style>\n",
              "<table border=\"1\" class=\"dataframe\">\n",
              "  <thead>\n",
              "    <tr style=\"text-align: right;\">\n",
              "      <th></th>\n",
              "      <th>Tweet</th>\n",
              "      <th>Scores</th>\n",
              "    </tr>\n",
              "  </thead>\n",
              "  <tbody>\n",
              "    <tr>\n",
              "      <th>0</th>\n",
              "      <td>watching ep 7 now 🏃‍♀️ SEHUN 세훈 엑소세훈 BustedSea...</td>\n",
              "      <td>{'neg': 0.0, 'neu': 1.0, 'pos': 0.0, 'compound...</td>\n",
              "    </tr>\n",
              "    <tr>\n",
              "      <th>1</th>\n",
              "      <td>Woaaaah Oh Sehun 's deductive skills ep 6 , we...</td>\n",
              "      <td>{'neg': 0.0, 'neu': 0.84, 'pos': 0.16, 'compou...</td>\n",
              "    </tr>\n",
              "    <tr>\n",
              "      <th>2</th>\n",
              "      <td>Busted Season 4 plssssssssBustedSeason3 Busted...</td>\n",
              "      <td>{'neg': 0.0, 'neu': 1.0, 'pos': 0.0, 'compound...</td>\n",
              "    </tr>\n",
              "    <tr>\n",
              "      <th>3</th>\n",
              "      <td>STOP why closing sequence season 3 finale maki...</td>\n",
              "      <td>{'neg': 0.317, 'neu': 0.683, 'pos': 0.0, 'comp...</td>\n",
              "    </tr>\n",
              "    <tr>\n",
              "      <th>4</th>\n",
              "      <td>Busted did `` copycat detectives '' episode ag...</td>\n",
              "      <td>{'neg': 0.0, 'neu': 0.783, 'pos': 0.217, 'comp...</td>\n",
              "    </tr>\n",
              "  </tbody>\n",
              "</table>\n",
              "</div>"
            ],
            "text/plain": [
              "                                               Tweet                                             Scores\n",
              "0  watching ep 7 now 🏃‍♀️ SEHUN 세훈 엑소세훈 BustedSea...  {'neg': 0.0, 'neu': 1.0, 'pos': 0.0, 'compound...\n",
              "1  Woaaaah Oh Sehun 's deductive skills ep 6 , we...  {'neg': 0.0, 'neu': 0.84, 'pos': 0.16, 'compou...\n",
              "2  Busted Season 4 plssssssssBustedSeason3 Busted...  {'neg': 0.0, 'neu': 1.0, 'pos': 0.0, 'compound...\n",
              "3  STOP why closing sequence season 3 finale maki...  {'neg': 0.317, 'neu': 0.683, 'pos': 0.0, 'comp...\n",
              "4  Busted did `` copycat detectives '' episode ag...  {'neg': 0.0, 'neu': 0.783, 'pos': 0.217, 'comp..."
            ]
          },
          "metadata": {
            "tags": []
          },
          "execution_count": 11
        }
      ]
    },
    {
      "cell_type": "code",
      "metadata": {
        "colab": {
          "base_uri": "https://localhost:8080/",
          "height": 204
        },
        "id": "IzYewUfrmVpd",
        "outputId": "8253994a-a7e9-4ef5-c007-23455f9aaf68"
      },
      "source": [
        "df_tw['Compound']  = df_tw['Scores'].apply(lambda score_dict: score_dict['compound'])\n",
        "\n",
        "df_tw.head()"
      ],
      "execution_count": null,
      "outputs": [
        {
          "output_type": "execute_result",
          "data": {
            "text/html": [
              "<div>\n",
              "<style scoped>\n",
              "    .dataframe tbody tr th:only-of-type {\n",
              "        vertical-align: middle;\n",
              "    }\n",
              "\n",
              "    .dataframe tbody tr th {\n",
              "        vertical-align: top;\n",
              "    }\n",
              "\n",
              "    .dataframe thead th {\n",
              "        text-align: right;\n",
              "    }\n",
              "</style>\n",
              "<table border=\"1\" class=\"dataframe\">\n",
              "  <thead>\n",
              "    <tr style=\"text-align: right;\">\n",
              "      <th></th>\n",
              "      <th>Tweet</th>\n",
              "      <th>Scores</th>\n",
              "      <th>Compound</th>\n",
              "    </tr>\n",
              "  </thead>\n",
              "  <tbody>\n",
              "    <tr>\n",
              "      <th>0</th>\n",
              "      <td>watching ep 7 now 🏃‍♀️ SEHUN 세훈 엑소세훈 BustedSea...</td>\n",
              "      <td>{'neg': 0.0, 'neu': 1.0, 'pos': 0.0, 'compound...</td>\n",
              "      <td>0.0000</td>\n",
              "    </tr>\n",
              "    <tr>\n",
              "      <th>1</th>\n",
              "      <td>Woaaaah Oh Sehun 's deductive skills ep 6 , we...</td>\n",
              "      <td>{'neg': 0.0, 'neu': 0.84, 'pos': 0.16, 'compou...</td>\n",
              "      <td>0.2732</td>\n",
              "    </tr>\n",
              "    <tr>\n",
              "      <th>2</th>\n",
              "      <td>Busted Season 4 plssssssssBustedSeason3 Busted...</td>\n",
              "      <td>{'neg': 0.0, 'neu': 1.0, 'pos': 0.0, 'compound...</td>\n",
              "      <td>0.0000</td>\n",
              "    </tr>\n",
              "    <tr>\n",
              "      <th>3</th>\n",
              "      <td>STOP why closing sequence season 3 finale maki...</td>\n",
              "      <td>{'neg': 0.317, 'neu': 0.683, 'pos': 0.0, 'comp...</td>\n",
              "      <td>-0.7213</td>\n",
              "    </tr>\n",
              "    <tr>\n",
              "      <th>4</th>\n",
              "      <td>Busted did `` copycat detectives '' episode ag...</td>\n",
              "      <td>{'neg': 0.0, 'neu': 0.783, 'pos': 0.217, 'comp...</td>\n",
              "      <td>0.6124</td>\n",
              "    </tr>\n",
              "  </tbody>\n",
              "</table>\n",
              "</div>"
            ],
            "text/plain": [
              "                                               Tweet  ... Compound\n",
              "0  watching ep 7 now 🏃‍♀️ SEHUN 세훈 엑소세훈 BustedSea...  ...   0.0000\n",
              "1  Woaaaah Oh Sehun 's deductive skills ep 6 , we...  ...   0.2732\n",
              "2  Busted Season 4 plssssssssBustedSeason3 Busted...  ...   0.0000\n",
              "3  STOP why closing sequence season 3 finale maki...  ...  -0.7213\n",
              "4  Busted did `` copycat detectives '' episode ag...  ...   0.6124\n",
              "\n",
              "[5 rows x 3 columns]"
            ]
          },
          "metadata": {
            "tags": []
          },
          "execution_count": 12
        }
      ]
    },
    {
      "cell_type": "code",
      "metadata": {
        "colab": {
          "base_uri": "https://localhost:8080/",
          "height": 204
        },
        "id": "rkToFQJBmdVm",
        "outputId": "4d400d34-5576-4258-81a2-09aab6b84394"
      },
      "source": [
        "df_tw['Label'] = df_tw['Compound'].apply(lambda c: 'pos' if c >=0 else 'neg')\n",
        "\n",
        "df_tw.head()"
      ],
      "execution_count": null,
      "outputs": [
        {
          "output_type": "execute_result",
          "data": {
            "text/html": [
              "<div>\n",
              "<style scoped>\n",
              "    .dataframe tbody tr th:only-of-type {\n",
              "        vertical-align: middle;\n",
              "    }\n",
              "\n",
              "    .dataframe tbody tr th {\n",
              "        vertical-align: top;\n",
              "    }\n",
              "\n",
              "    .dataframe thead th {\n",
              "        text-align: right;\n",
              "    }\n",
              "</style>\n",
              "<table border=\"1\" class=\"dataframe\">\n",
              "  <thead>\n",
              "    <tr style=\"text-align: right;\">\n",
              "      <th></th>\n",
              "      <th>Tweet</th>\n",
              "      <th>Scores</th>\n",
              "      <th>Compound</th>\n",
              "      <th>Label</th>\n",
              "    </tr>\n",
              "  </thead>\n",
              "  <tbody>\n",
              "    <tr>\n",
              "      <th>0</th>\n",
              "      <td>watching ep 7 now 🏃‍♀️ SEHUN 세훈 엑소세훈 BustedSea...</td>\n",
              "      <td>{'neg': 0.0, 'neu': 1.0, 'pos': 0.0, 'compound...</td>\n",
              "      <td>0.0000</td>\n",
              "      <td>pos</td>\n",
              "    </tr>\n",
              "    <tr>\n",
              "      <th>1</th>\n",
              "      <td>Woaaaah Oh Sehun 's deductive skills ep 6 , we...</td>\n",
              "      <td>{'neg': 0.0, 'neu': 0.84, 'pos': 0.16, 'compou...</td>\n",
              "      <td>0.2732</td>\n",
              "      <td>pos</td>\n",
              "    </tr>\n",
              "    <tr>\n",
              "      <th>2</th>\n",
              "      <td>Busted Season 4 plssssssssBustedSeason3 Busted...</td>\n",
              "      <td>{'neg': 0.0, 'neu': 1.0, 'pos': 0.0, 'compound...</td>\n",
              "      <td>0.0000</td>\n",
              "      <td>pos</td>\n",
              "    </tr>\n",
              "    <tr>\n",
              "      <th>3</th>\n",
              "      <td>STOP why closing sequence season 3 finale maki...</td>\n",
              "      <td>{'neg': 0.317, 'neu': 0.683, 'pos': 0.0, 'comp...</td>\n",
              "      <td>-0.7213</td>\n",
              "      <td>neg</td>\n",
              "    </tr>\n",
              "    <tr>\n",
              "      <th>4</th>\n",
              "      <td>Busted did `` copycat detectives '' episode ag...</td>\n",
              "      <td>{'neg': 0.0, 'neu': 0.783, 'pos': 0.217, 'comp...</td>\n",
              "      <td>0.6124</td>\n",
              "      <td>pos</td>\n",
              "    </tr>\n",
              "  </tbody>\n",
              "</table>\n",
              "</div>"
            ],
            "text/plain": [
              "                                               Tweet  ... Label\n",
              "0  watching ep 7 now 🏃‍♀️ SEHUN 세훈 엑소세훈 BustedSea...  ...   pos\n",
              "1  Woaaaah Oh Sehun 's deductive skills ep 6 , we...  ...   pos\n",
              "2  Busted Season 4 plssssssssBustedSeason3 Busted...  ...   pos\n",
              "3  STOP why closing sequence season 3 finale maki...  ...   neg\n",
              "4  Busted did `` copycat detectives '' episode ag...  ...   pos\n",
              "\n",
              "[5 rows x 4 columns]"
            ]
          },
          "metadata": {
            "tags": []
          },
          "execution_count": 13
        }
      ]
    },
    {
      "cell_type": "code",
      "metadata": {
        "colab": {
          "base_uri": "https://localhost:8080/"
        },
        "id": "dF_b4A4gszLX",
        "outputId": "8e01d737-83e3-4b3b-df2e-7ea066bda530"
      },
      "source": [
        "df_tw['Label'].value_counts()"
      ],
      "execution_count": null,
      "outputs": [
        {
          "output_type": "execute_result",
          "data": {
            "text/plain": [
              "pos    1643\n",
              "neg     357\n",
              "Name: Label, dtype: int64"
            ]
          },
          "metadata": {
            "tags": []
          },
          "execution_count": 14
        }
      ]
    },
    {
      "cell_type": "code",
      "metadata": {
        "id": "m9KMePRbO3qz"
      },
      "source": [
        "%matplotlib inline \n",
        "\n",
        "import matplotlib as mpl\n",
        "import matplotlib.pyplot as plt"
      ],
      "execution_count": null,
      "outputs": []
    },
    {
      "cell_type": "code",
      "metadata": {
        "colab": {
          "base_uri": "https://localhost:8080/",
          "height": 345
        },
        "id": "O17PPdqGPCBn",
        "outputId": "cba480b3-4b9a-4d28-d318-b165aee8b8cb"
      },
      "source": [
        "df_tw['Label'].value_counts().plot(kind='bar', figsize=(8, 5), color='darkblue')\n",
        "\n",
        "plt.title('Number of Positive and Negative Sentiments for Busted Season 3') \n",
        "\n",
        "plt.show()"
      ],
      "execution_count": null,
      "outputs": [
        {
          "output_type": "display_data",
          "data": {
            "image/png": "[encoded data removed]",
            "text/plain": [
              "<Figure size 576x360 with 1 Axes>"
            ]
          },
          "metadata": {
            "tags": [],
            "needs_background": "light"
          }
        }
      ]
    },
    {
      "cell_type": "markdown",
      "metadata": {
        "id": "Cyqbp4GQnMo_"
      },
      "source": [
        "# Machine Learning Sentiment Analysis"
      ]
    },
    {
      "cell_type": "code",
      "metadata": {
        "id": "D0ex76UIomN6"
      },
      "source": [
        "from sklearn.model_selection import train_test_split\n",
        "from sklearn.feature_extraction.text import CountVectorizer\n",
        "from sklearn import metrics #Import scikit-learn metrics module for accuracy calculation"
      ],
      "execution_count": null,
      "outputs": []
    },
    {
      "cell_type": "code",
      "metadata": {
        "colab": {
          "base_uri": "https://localhost:8080/",
          "height": 204
        },
        "id": "uwhkfPDWnRgO",
        "outputId": "3e2757f1-c1f4-48e5-ccec-fda060df8a2c"
      },
      "source": [
        "df_sent = pd.DataFrame(df_tw.iloc[:, [0,3]])\n",
        "df_sent.head()"
      ],
      "execution_count": null,
      "outputs": [
        {
          "output_type": "execute_result",
          "data": {
            "text/html": [
              "<div>\n",
              "<style scoped>\n",
              "    .dataframe tbody tr th:only-of-type {\n",
              "        vertical-align: middle;\n",
              "    }\n",
              "\n",
              "    .dataframe tbody tr th {\n",
              "        vertical-align: top;\n",
              "    }\n",
              "\n",
              "    .dataframe thead th {\n",
              "        text-align: right;\n",
              "    }\n",
              "</style>\n",
              "<table border=\"1\" class=\"dataframe\">\n",
              "  <thead>\n",
              "    <tr style=\"text-align: right;\">\n",
              "      <th></th>\n",
              "      <th>Tweet</th>\n",
              "      <th>Label</th>\n",
              "    </tr>\n",
              "  </thead>\n",
              "  <tbody>\n",
              "    <tr>\n",
              "      <th>0</th>\n",
              "      <td>watching ep 7 now 🏃‍♀️ SEHUN 세훈 엑소세훈 BustedSea...</td>\n",
              "      <td>pos</td>\n",
              "    </tr>\n",
              "    <tr>\n",
              "      <th>1</th>\n",
              "      <td>Woaaaah Oh Sehun 's deductive skills ep 6 , we...</td>\n",
              "      <td>pos</td>\n",
              "    </tr>\n",
              "    <tr>\n",
              "      <th>2</th>\n",
              "      <td>Busted Season 4 plssssssssBustedSeason3 Busted...</td>\n",
              "      <td>pos</td>\n",
              "    </tr>\n",
              "    <tr>\n",
              "      <th>3</th>\n",
              "      <td>STOP why closing sequence season 3 finale maki...</td>\n",
              "      <td>neg</td>\n",
              "    </tr>\n",
              "    <tr>\n",
              "      <th>4</th>\n",
              "      <td>Busted did `` copycat detectives '' episode ag...</td>\n",
              "      <td>pos</td>\n",
              "    </tr>\n",
              "  </tbody>\n",
              "</table>\n",
              "</div>"
            ],
            "text/plain": [
              "                                               Tweet Label\n",
              "0  watching ep 7 now 🏃‍♀️ SEHUN 세훈 엑소세훈 BustedSea...   pos\n",
              "1  Woaaaah Oh Sehun 's deductive skills ep 6 , we...   pos\n",
              "2  Busted Season 4 plssssssssBustedSeason3 Busted...   pos\n",
              "3  STOP why closing sequence season 3 finale maki...   neg\n",
              "4  Busted did `` copycat detectives '' episode ag...   pos"
            ]
          },
          "metadata": {
            "tags": []
          },
          "execution_count": 18
        }
      ]
    },
    {
      "cell_type": "code",
      "metadata": {
        "id": "Dv80bnZEyB5z"
      },
      "source": [
        "# extracting features\n",
        "def extract_features(df,field,training_data,testing_data):\n",
        "  cv= CountVectorizer(binary=False, max_df=0.95)\n",
        "  cv.fit_transform(training_data[field].values)\n",
        "  train_feature_set=cv.transform(training_data[field].values)\n",
        "  test_feature_set=cv.transform(testing_data[field].values)\n",
        "  return train_feature_set,test_feature_set,cv"
      ],
      "execution_count": null,
      "outputs": []
    },
    {
      "cell_type": "code",
      "metadata": {
        "id": "Mn7d-Nmsn51E"
      },
      "source": [
        "#create features\n",
        "#field  - column name contains the review text\n",
        "field = 'Tweet'\n",
        "\n",
        "# GET A TRAIN TEST SPLIT (set seed for consistent results)\n",
        "training_data,testing_data = train_test_split(df_sent,random_state = 2000)\n",
        "# GET FEATURES\n",
        "X_train,X_test, feature_transformer=extract_features(df_sent,field,training_data,testing_data)\n",
        "# GET LABELS\n",
        "Y_train=training_data['Label'].values\n",
        "Y_test=testing_data['Label'].values"
      ],
      "execution_count": null,
      "outputs": []
    },
    {
      "cell_type": "code",
      "metadata": {
        "colab": {
          "base_uri": "https://localhost:8080/"
        },
        "id": "4RyuGORTosT2",
        "outputId": "4bebebae-d2da-42eb-d75c-77dd55bd5c1f"
      },
      "source": [
        "#build the classifier model - naives bayes\n",
        "from sklearn.naive_bayes import MultinomialNB\n",
        "model_nb = MultinomialNB().fit(X_train, Y_train)\n",
        "nb_predicted= model_nb.predict(X_test)\n",
        "print(\"MultinomialNB Accuracy with CountVectorizer:\",metrics.accuracy_score(Y_test, nb_predicted))"
      ],
      "execution_count": null,
      "outputs": [
        {
          "output_type": "stream",
          "text": [
            "MultinomialNB Accuracy with CountVectorizer: 0.86\n"
          ],
          "name": "stdout"
        }
      ]
    }
  ]
}